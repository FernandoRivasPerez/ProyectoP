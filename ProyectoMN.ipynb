{
  "nbformat": 4,
  "nbformat_minor": 0,
  "metadata": {
    "colab": {
      "name": "ProyectoMN.ipynb",
      "provenance": [],
      "collapsed_sections": []
    },
    "kernelspec": {
      "name": "python3",
      "display_name": "Python 3"
    },
    "language_info": {
      "name": "python"
    }
  },
  "cells": [
    {
      "cell_type": "code",
      "metadata": {
        "id": "r69Ys4omEF3m"
      },
      "source": [
        "from math import *\n",
        "import sympy as sp\n",
        "import os\n",
        "\n",
        "def Biseccion():\n",
        "    print(\"\")\n",
        "    print(\"--------METODO DE BISECCIÓN--------\")\n",
        "    x = sp.symbols('x')\n",
        "    f = input(\"Digite la función: \")\n",
        "    f = sp.lambdify(x,f)\n",
        "    a = input(\"Digite el primer valor del intervalo: \")\n",
        "    a = float(a)\n",
        "    b = input(\"Digite el segundo valor del intervalo: \")\n",
        "    b = float(b)\n",
        "    print(f\"Su intervalo es [{a},{b}]\")\n",
        "    tol = input(\"Digite el error máximo permitido: \")\n",
        "    tol = float(tol)\n",
        "    m1 = a\n",
        "    m = b\n",
        "    k = 0\n",
        "    contador = 0\n",
        "    print(\"\")\n",
        "    if f(a)*f(b) > 0:\n",
        "        print(\"¡La función no cambia de signo!\")\n",
        "    \n",
        "    while abs(m1-m) > tol:\n",
        "        m1 = m\n",
        "        m = (a+b)/2\n",
        "        if f(a)*f(m) < 0:\n",
        "            b = m\n",
        "        if f(m)*f(b) < 0:\n",
        "            a = m\n",
        "        contador = contador + 1\n",
        "        print(f\"El intervalo de la iteración {contador} es [{a}, {b}]\")\n",
        "        k = k + 1\n",
        "        #contador = contador + 1\n",
        "    print(f\"x{k} = {m} es una buena aproximación\")\n",
        "    "
      ],
      "execution_count": 1,
      "outputs": []
    },
    {
      "cell_type": "code",
      "metadata": {
        "id": "EU4MdFBJETF3"
      },
      "source": [
        "from math import *\n",
        "import sympy as sp\n",
        "\n",
        "def PuntoFijo():\n",
        "    print(\"\")\n",
        "    print(\"--------METODO DE PUNTO FIJO--------\")\n",
        "    x = sp.symbols('x')\n",
        "    g = input(\"Digite la función: \")\n",
        "    g = sp.lambdify(x,g)\n",
        "    x0 = input(\"Digite un valor inicial: \")\n",
        "    x0 = float(x0)\n",
        "    n = input(\"Digite las iteraciones a realizar: \")\n",
        "    n = int(n)\n",
        "    tol = input(\"Digite el error máximo permitido: \")\n",
        "    tol = float(tol)\n",
        "    print(\"\")\n",
        "    for k in range(n):\n",
        "        x1 = g(x0)\n",
        "        i = x0\n",
        "        if abs(x1-x0) < tol:\n",
        "            print(f\"x{k} = {i} --> f(x{k}) = {x1} es un punto fijo\")\n",
        "            return\n",
        "        #i = x0\n",
        "        x0 = x1\n",
        "        print(f\"x{k} = {i} --> f(x{k}) = {x1}\")\n"
      ],
      "execution_count": 2,
      "outputs": []
    },
    {
      "cell_type": "code",
      "metadata": {
        "id": "O9CKM4KgEann"
      },
      "source": [
        "import sympy as sp\n",
        "from math import *\n",
        "\n",
        "def NewtonRaphson():\n",
        "    print(\"\")\n",
        "    print(\"--------METODO NEWTON-RAPHSON--------\")\n",
        "    x = sp.symbols('x')\n",
        "    f = input(\"Digite la función: \")\n",
        "    df = sp.diff(f)\n",
        "    f = sp.lambdify(x,f)\n",
        "    df = sp.lambdify(x,df)\n",
        "    x0 = input(\"Digite el valor inicial: \")\n",
        "    x0 = float(x0)\n",
        "    tol = input(\"Digite el error máximo permitido: \")\n",
        "    tol = float(tol)\n",
        "    n = input(\"Digite el número máximo de iteraciones: \")\n",
        "    n = int(n)\n",
        "    for k in range(n):\n",
        "        x1 = x0-f(x0)/df(x0)\n",
        "        if abs(x1-x0) < tol:\n",
        "            print(f\"x{k+1} = {x1} es una buena aproximación de la raíz\")\n",
        "            return\n",
        "        x0 = x1\n",
        "        print(f\"x{k+1} = {x1}\")\n",
        "        "
      ],
      "execution_count": 3,
      "outputs": []
    },
    {
      "cell_type": "code",
      "metadata": {
        "colab": {
          "base_uri": "https://localhost:8080/"
        },
        "id": "jeNoDn3nEhs4",
        "outputId": "5d6afbc0-0ed3-4293-d615-9c6032efded4"
      },
      "source": [
        "import sympy as sp\n",
        "from math import *\n",
        "\n",
        "print(\"Digite un número para seleccionar un Método Númerico para realizar\")\n",
        "print(\"1. Método de Bisección\")\n",
        "print(\"2. Método de Punto Fijo\")\n",
        "print(\"3. Método Newton-Raphson\")\n",
        "\n",
        "metodo = int(input(\"Introduzca un numero entre 1 y 3: \"))\n",
        "\n",
        "os.system(\"cls\")\n",
        "if metodo > 0 and metodo < 4:\n",
        "    if metodo == 1:\n",
        "        Biseccion()\n",
        "    elif metodo == 2:\n",
        "        PuntoFijo()\n",
        "    elif metodo == 3:\n",
        "        NewtonRaphson()\n",
        "else:\n",
        "    print(\"Tu dato esta fuera de lo solicitado\")\n"
      ],
      "execution_count": 4,
      "outputs": [
        {
          "output_type": "stream",
          "name": "stdout",
          "text": [
            "Digite un número para seleccionar un Método Númerico para realizar\n",
            "1. Método de Bisección\n",
            "2. Método de Punto Fijo\n",
            "3. Método Newton-Raphson\n",
            "Introduzca un numero entre 1 y 3: 1\n",
            "\n",
            "--------METODO DE BISECCIÓN--------\n",
            "Digite la función: x**3+x-1\n",
            "Digite el primer valor del intervalo: 0\n",
            "Digite el segundo valor del intervalo: 1\n",
            "Su intervalo es [0.0,1.0]\n",
            "Digite el error máximo permitido: 0.000001\n",
            "\n",
            "El intervalo de la iteración 1 es [0.5, 1.0]\n",
            "El intervalo de la iteración 2 es [0.5, 0.75]\n",
            "El intervalo de la iteración 3 es [0.625, 0.75]\n",
            "El intervalo de la iteración 4 es [0.625, 0.6875]\n",
            "El intervalo de la iteración 5 es [0.65625, 0.6875]\n",
            "El intervalo de la iteración 6 es [0.671875, 0.6875]\n",
            "El intervalo de la iteración 7 es [0.6796875, 0.6875]\n",
            "El intervalo de la iteración 8 es [0.6796875, 0.68359375]\n",
            "El intervalo de la iteración 9 es [0.681640625, 0.68359375]\n",
            "El intervalo de la iteración 10 es [0.681640625, 0.6826171875]\n",
            "El intervalo de la iteración 11 es [0.68212890625, 0.6826171875]\n",
            "El intervalo de la iteración 12 es [0.68212890625, 0.682373046875]\n",
            "El intervalo de la iteración 13 es [0.6822509765625, 0.682373046875]\n",
            "El intervalo de la iteración 14 es [0.68231201171875, 0.682373046875]\n",
            "El intervalo de la iteración 15 es [0.68231201171875, 0.682342529296875]\n",
            "El intervalo de la iteración 16 es [0.6823272705078125, 0.682342529296875]\n",
            "El intervalo de la iteración 17 es [0.6823272705078125, 0.6823348999023438]\n",
            "El intervalo de la iteración 18 es [0.6823272705078125, 0.6823310852050781]\n",
            "El intervalo de la iteración 19 es [0.6823272705078125, 0.6823291778564453]\n",
            "El intervalo de la iteración 20 es [0.6823272705078125, 0.6823282241821289]\n",
            "x20 = 0.6823282241821289 es una buena aproximación\n"
          ]
        }
      ]
    }
  ]
}